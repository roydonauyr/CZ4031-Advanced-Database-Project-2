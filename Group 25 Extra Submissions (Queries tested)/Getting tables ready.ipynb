{
 "cells": [
  {
   "cell_type": "code",
   "execution_count": 2,
   "id": "275fe860",
   "metadata": {},
   "outputs": [],
   "source": [
    "# Imports\n",
    "import pandas as pd"
   ]
  },
  {
   "cell_type": "code",
   "execution_count": 23,
   "id": "82447418",
   "metadata": {},
   "outputs": [],
   "source": [
    "# Read files\n",
    "\n",
    "region = pd.read_table(\"C:/Users/roydo/OneDrive/Year 3 Sem 1/Database/Project/Project 2/TPC-H V3.0.1/dbgen/region.tbl\", sep = \"|\")\n",
    "region = region.iloc[: , :-1]\n",
    "region.to_csv(\"C:/Roydon/Github/Project-2/region.csv\",index = False)\n",
    "\n",
    "customer = pd.read_table(\"C:/Users/roydo/OneDrive/Year 3 Sem 1/Database/Project/Project 2/TPC-H V3.0.1/dbgen/customer.tbl\", sep = \"|\")\n",
    "customer = customer.iloc[: , :-1]\n",
    "customer.to_csv(\"C:/Roydon/Github/Project-2/customer.csv\",index = False)\n",
    "\n",
    "lineitem = pd.read_table(\"C:/Users/roydo/OneDrive/Year 3 Sem 1/Database/Project/Project 2/TPC-H V3.0.1/dbgen/lineitem.tbl\", sep = \"|\")\n",
    "lineitem = lineitem.iloc[: , :-1]\n",
    "lineitem = lineitem.rename({'1.1': 1}, axis = 1)\n",
    "lineitem.to_csv(\"C:/Roydon/Github/Project-2/lineitem.csv\",index = False)\n",
    "\n",
    "nation = pd.read_table(\"C:/Users/roydo/OneDrive/Year 3 Sem 1/Database/Project/Project 2/TPC-H V3.0.1/dbgen/nation.tbl\", sep = \"|\")\n",
    "nation = nation.iloc[: , :-1]\n",
    "nation.to_csv(\"C:/Roydon/Github/Project-2/nation.csv\",index = False)\n",
    "\n",
    "orders = pd.read_table(\"C:/Users/roydo/OneDrive/Year 3 Sem 1/Database/Project/Project 2/TPC-H V3.0.1/dbgen/orders.tbl\", sep = \"|\")\n",
    "orders = orders.iloc[: , :-1]\n",
    "orders.to_csv(\"C:/Roydon/Github/Project-2/orders.csv\",index = False)\n",
    "\n",
    "part = pd.read_table(\"C:/Users/roydo/OneDrive/Year 3 Sem 1/Database/Project/Project 2/TPC-H V3.0.1/dbgen/part.tbl\", sep = \"|\")\n",
    "part = part.iloc[: , :-1]\n",
    "part.to_csv(\"C:/Roydon/Github/Project-2/part.csv\",index = False)\n",
    "\n",
    "partsupp = pd.read_table(\"C:/Users/roydo/OneDrive/Year 3 Sem 1/Database/Project/Project 2/TPC-H V3.0.1/dbgen/partsupp.tbl\", sep = \"|\")\n",
    "partsupp = partsupp.iloc[: , :-1]\n",
    "partsupp.to_csv(\"C:/Roydon/Github/Project-2/partsupp.csv\",index = False)\n",
    "\n",
    "supplier = pd.read_table(\"C:/Users/roydo/OneDrive/Year 3 Sem 1/Database/Project/Project 2/TPC-H V3.0.1/dbgen/supplier.tbl\", sep = \"|\")\n",
    "supplier = supplier.iloc[: , :-1]\n",
    "supplier.to_csv(\"C:/Roydon/Github/Project-2/supplier.csv\",index = False)"
   ]
  },
  {
   "cell_type": "code",
   "execution_count": 30,
   "id": "cef0fb73",
   "metadata": {},
   "outputs": [
    {
     "data": {
      "text/plain": [
       "9999"
      ]
     },
     "execution_count": 30,
     "metadata": {},
     "output_type": "execute_result"
    }
   ],
   "source": [
    "len(supplier)"
   ]
  }
 ],
 "metadata": {
  "kernelspec": {
   "display_name": "Python 3 (ipykernel)",
   "language": "python",
   "name": "python3"
  },
  "language_info": {
   "codemirror_mode": {
    "name": "ipython",
    "version": 3
   },
   "file_extension": ".py",
   "mimetype": "text/x-python",
   "name": "python",
   "nbconvert_exporter": "python",
   "pygments_lexer": "ipython3",
   "version": "3.8.5"
  }
 },
 "nbformat": 4,
 "nbformat_minor": 5
}
